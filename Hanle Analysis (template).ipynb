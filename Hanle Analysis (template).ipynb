{
 "cells": [
  {
   "cell_type": "markdown",
   "metadata": {},
   "source": [
    "# Individual Analysis for the Hanle Effect experiment\n",
    "\n",
    "Use this template to carry out the analysis tasks for the experiment.  For reference, here are links to recommended Python resources: the [Whirlwind Tour of Python](https://jakevdp.github.io/WhirlwindTourOfPython/) and the [Python Data Science Handbook](https://jakevdp.github.io/PythonDataScienceHandbook/) both by Jake VanderPlas.\n",
    "\n",
    "We will be making use of both the [Uncertainties](https://pythonhosted.org/uncertainties/) and [LMFit](https://lmfit.github.io/lmfit-py/) packages in this notebook."
   ]
  },
  {
   "cell_type": "code",
   "execution_count": null,
   "metadata": {},
   "outputs": [],
   "source": [
    "import numpy as np  # import the numpy library functions.\n",
    "import matplotlib.pyplot as plt # plotting functions\n",
    "import uncertainties as unc # Uncertainties package.  Good for simple error propagation\n",
    "import scipy.constants as const # Library of physical constants\n",
    "import pandas as pd\n",
    "%matplotlib inline"
   ]
  },
  {
   "cell_type": "markdown",
   "metadata": {},
   "source": [
    "## Tasks for this analysis\n",
    "\n",
    "#### Standard Anaysis\n",
    "\n",
    "1. Use the peak maximum and minimum coil currents, the dwell time, and the sweep period to create a *calibration constant* that gives the change in coil current per MCS channel.\n",
    "\n",
    "2. From the fits to the spectrum peaks, either with the Norland Interface application or LMFit, obtain the half-width at half-maximum (HWHM) in channel numbers. If you use LMFit, follow the tutorial in the **Examples** repository on fitting a complicated multi-peak function to a data set to fit the inverted peaks to two Lorentzians plus a constant background. \n",
    "\n",
    "3. Apply the calibration constant, and the conversion constant of current to magnetic field (14.3 gauss/amp) to obtain $\\Delta B_{1/2}$ with uncertainty.\n",
    "\n",
    "4. Calculate the lifetime of the <sup>3</sup>P<sub>1</sub> state of mercury.\n",
    "\n",
    "#### Extended Analysis\n",
    "\n",
    "The extended analysis involves converting the channels directly to magnetic field before running the peak fit. The fit itself then gives $\\Delta B_{1/2}$ directly.\n",
    "\n",
    "1. Use the peak maximum and minimum coil currents, the dwell time and sweep period to create a *calibration function* to convert channel number to coil current.  This function will be piecewise-linear.  Caution: you need to know the sign and magnitude of the current at the start of the scan (channnel zero).  This requires a careful observation of the ammeter vs. MCS sweep.\n",
    "\n",
    "2. Apply your calibration function to the channel numbers to create an array of current values.  Plot the channel counts versus this array times the conversion constant of 14.3 gauss/amp, and see that the two peaks now lay exactly on top of each other.  If they do not do so, then there is a mistake.\n",
    "\n",
    "3. Use LMFit to fit one inverted Lorentzian to the combined data set. From the fit result, obtain the HWHM which should be equal to $\\Delta B_{1/2}$.  From this calculate the lifetime of the <sup>3</sup>P<sub>1</sub> state of mercury.\n",
    "\n",
    "You may use either method of obtaining the final results. You do not need to carry out both.\n"
   ]
  },
  {
   "cell_type": "markdown",
   "metadata": {},
   "source": [
    "### Standard Analysis: create a *calibration constant*\n",
    "\n",
    "The calibration constant is the change in coil current per channel. Think carefully about the dwell time versus the function generator period.  How many channels would equal one period? (If you think it is 1024, you have misunderstood the problem.)  How many channels correspond to the time it takes to go from the maximum to the minimum current? Once you know this, you can calculate the constant. "
   ]
  },
  {
   "cell_type": "code",
   "execution_count": null,
   "metadata": {},
   "outputs": [],
   "source": [
    "# Conversion constant for current to magnetic field\n",
    "conv_constant = 14.3 # gauss/amp\n",
    "\n",
    "# Record the max and min currents here\n",
    "\n",
    "I_max =  # amps\n",
    "I_min =  # amps\n",
    "\n",
    "# Record the dwell time and the sweep period\n",
    "\n",
    "dwell_time = #seconds\n",
    "sweep_period =  # seconds\n",
    "\n",
    "# Calculate the change in current per channel\n",
    "\n",
    "chan_per_period = \n",
    "cal_constant = \n",
    "\n",
    "# Calculate the change in magnetic field per channel\n",
    "Delta_B_per_chan = \n",
    "\n",
    "print('Channels per period: {:.0f}'.format(chan_per_period))\n",
    "print('Calibration constant: {:.4g} A/channel'.format(cal_constant))\n",
    "print('Change in B-field per channel: {:.4g} gauss/channel'.format(Delta_B_per_chan))"
   ]
  },
  {
   "cell_type": "markdown",
   "metadata": {},
   "source": [
    "## Use LMFit to analyze the vertical polarization data \n",
    "\n",
    "NOTE: If using the LabVIEW application data analysis result, skip this section and scroll down to **Calculate the lifetime of <sup>3</sup>P<sub>1</sub>** below.\n",
    "\n",
    "The only datafile that needs to be analyzed numerically is the data with incoming polarization set to 0 degrees (vertical polarization) and the bucking coil on. Optionally, you may also analyze the same polarization with the bucking coil off, but this is only to compare to the other, better, dataset."
   ]
  },
  {
   "cell_type": "markdown",
   "metadata": {},
   "source": [
    "### Read in the data file\n",
    "\n",
    "The raw data files are tab separated two-column files with a one-line header that does not matter for multichannel scaling files.  You need to skip the header and name the columns to create a dataframe.\n",
    "\n",
    "Use the **Pandas** `read_csv()` function to read the raw data file from the Norland MCA as follows:\n",
    "\n",
    "    Hanle_Vpol = pd.read_csv('Hanle_vertical_polarization_data.txt',header=0,names=['Chan','Counts'],sep='\\t')\n",
    "    \n",
    "The dataframe will be named `Hanle_Vpol`  with columns `Hanle_Vpol['Chan']` ad `Hanle_Vpol['Counts']`. "
   ]
  },
  {
   "cell_type": "code",
   "execution_count": null,
   "metadata": {},
   "outputs": [],
   "source": [
    "# Read the data in as described.  \n",
    "# You code this\n",
    "\n",
    "# With the Python display() function, you can print a nice table\n"
   ]
  },
  {
   "cell_type": "markdown",
   "metadata": {},
   "source": [
    "#### Plot it\n",
    "Make a plot to check that it looks right."
   ]
  },
  {
   "cell_type": "code",
   "execution_count": null,
   "metadata": {},
   "outputs": [],
   "source": [
    "# Sanity plot example\n",
    "\n",
    "myfig = plt.figure(figsize=(10,7))\n",
    "plt.grid()\n",
    "plt.xlabel('Channel')\n",
    "plt.ylabel('Counts')\n",
    "plt.title('Hanle data for vertical polarization')\n",
    "plt.plot(Hanle_data['Chan'],Hanle_data['Counts'],'.');"
   ]
  },
  {
   "cell_type": "markdown",
   "metadata": {},
   "source": [
    "### Fit the data to a model\n",
    "\n",
    "Now you should be ready to apply the procedure described in the **Composite Model Demo** notebook.\n",
    "\n",
    "Below is a reminder of the basic steps."
   ]
  },
  {
   "cell_type": "markdown",
   "metadata": {},
   "source": [
    "#### Make the model\n",
    "\n",
    "For *Standard Analysis,* the model fit will consist of two Lorentzian peaks and a Constant background. \n",
    "\n",
    "For *Extended Analysis,* the model fit will have only one Lorentzian and a Constant background.  The process is the same for either approach, except you do not need to use the \"prefix\" specifier when there is only one peak (and only one set of peak parameters).\n",
    "\n",
    "The Lorentzian lineshape has the form\n",
    "$$f(x;A,\\mu,\\sigma) = \\frac{A}{\\pi}\\left[\\frac{\\sigma}{(x-\\mu)^2 + \\sigma^2}\\right]\\;.$$ \n",
    "\n",
    "Note that the height of the peak at the center ($x=\\mu$) is equal to $\\frac{A}{\\pi\\sigma}$ and that the full-width at half-maximum is $2\\sigma$."
   ]
  },
  {
   "cell_type": "code",
   "execution_count": 5,
   "metadata": {},
   "outputs": [
    {
     "data": {
      "text/html": [
       "<table class=\"jp-toc-ignore\"><caption>Parameters</caption><tr><th style='text-align:left'>name</th><th style='text-align:left'>value</th><th style='text-align:left'>initial value</th><th style='text-align:left'>min</th><th style='text-align:left'>max</th><th style='text-align:left'>vary</th><th style='text-align:right'>expression</th></tr><tr><td style='text-align:left'>c</td><td style='text-align:left'> 0.00000000</td><td style='text-align:left'>None</td><td style='text-align:left'>       -inf</td><td style='text-align:left'>        inf</td><td style='text-align:left'>True</td><td style='text-align:right'></td></tr><tr><td style='text-align:left'>p1_amplitude</td><td style='text-align:left'> 1.00000000</td><td style='text-align:left'>None</td><td style='text-align:left'>       -inf</td><td style='text-align:left'>        inf</td><td style='text-align:left'>True</td><td style='text-align:right'></td></tr><tr><td style='text-align:left'>p1_center</td><td style='text-align:left'> 0.00000000</td><td style='text-align:left'>None</td><td style='text-align:left'>       -inf</td><td style='text-align:left'>        inf</td><td style='text-align:left'>True</td><td style='text-align:right'></td></tr><tr><td style='text-align:left'>p1_sigma</td><td style='text-align:left'> 1.00000000</td><td style='text-align:left'>None</td><td style='text-align:left'> 0.00000000</td><td style='text-align:left'>        inf</td><td style='text-align:left'>True</td><td style='text-align:right'></td></tr><tr><td style='text-align:left'>p2_amplitude</td><td style='text-align:left'> 1.00000000</td><td style='text-align:left'>None</td><td style='text-align:left'>       -inf</td><td style='text-align:left'>        inf</td><td style='text-align:left'>True</td><td style='text-align:right'></td></tr><tr><td style='text-align:left'>p2_center</td><td style='text-align:left'> 0.00000000</td><td style='text-align:left'>None</td><td style='text-align:left'>       -inf</td><td style='text-align:left'>        inf</td><td style='text-align:left'>True</td><td style='text-align:right'></td></tr><tr><td style='text-align:left'>p2_sigma</td><td style='text-align:left'> 1.00000000</td><td style='text-align:left'>None</td><td style='text-align:left'> 0.00000000</td><td style='text-align:left'>        inf</td><td style='text-align:left'>True</td><td style='text-align:right'></td></tr><tr><td style='text-align:left'>p1_fwhm</td><td style='text-align:left'> 2.00000000</td><td style='text-align:left'>None</td><td style='text-align:left'>       -inf</td><td style='text-align:left'>        inf</td><td style='text-align:left'>False</td><td style='text-align:right'>2.0000000*p1_sigma</td></tr><tr><td style='text-align:left'>p1_height</td><td style='text-align:left'> 0.31830990</td><td style='text-align:left'>None</td><td style='text-align:left'>       -inf</td><td style='text-align:left'>        inf</td><td style='text-align:left'>False</td><td style='text-align:right'>0.3183099*p1_amplitude/max(1e-15, p1_sigma)</td></tr><tr><td style='text-align:left'>p2_fwhm</td><td style='text-align:left'> 2.00000000</td><td style='text-align:left'>None</td><td style='text-align:left'>       -inf</td><td style='text-align:left'>        inf</td><td style='text-align:left'>False</td><td style='text-align:right'>2.0000000*p2_sigma</td></tr><tr><td style='text-align:left'>p2_height</td><td style='text-align:left'> 0.31830990</td><td style='text-align:left'>None</td><td style='text-align:left'>       -inf</td><td style='text-align:left'>        inf</td><td style='text-align:left'>False</td><td style='text-align:right'>0.3183099*p2_amplitude/max(1e-15, p2_sigma)</td></tr></table>"
      ],
      "text/plain": [
       "Parameters([('c', <Parameter 'c', value=0.0, bounds=[-inf:inf]>), ('p1_amplitude', <Parameter 'p1_amplitude', value=1.0, bounds=[-inf:inf]>), ('p1_center', <Parameter 'p1_center', value=0.0, bounds=[-inf:inf]>), ('p1_sigma', <Parameter 'p1_sigma', value=1.0, bounds=[0:inf]>), ('p2_amplitude', <Parameter 'p2_amplitude', value=1.0, bounds=[-inf:inf]>), ('p2_center', <Parameter 'p2_center', value=0.0, bounds=[-inf:inf]>), ('p2_sigma', <Parameter 'p2_sigma', value=1.0, bounds=[0:inf]>), ('p1_fwhm', <Parameter 'p1_fwhm', value=2.0, bounds=[-inf:inf], expr='2.0000000*p1_sigma'>), ('p1_height', <Parameter 'p1_height', value=0.3183099, bounds=[-inf:inf], expr='0.3183099*p1_amplitude/max(1e-15, p1_sigma)'>), ('p2_fwhm', <Parameter 'p2_fwhm', value=2.0, bounds=[-inf:inf], expr='2.0000000*p2_sigma'>), ('p2_height', <Parameter 'p2_height', value=0.3183099, bounds=[-inf:inf], expr='0.3183099*p2_amplitude/max(1e-15, p2_sigma)'>)])"
      ]
     },
     "metadata": {},
     "output_type": "display_data"
    }
   ],
   "source": [
    "# Import a gaussian peak and second order polynomial for background\n",
    "\n",
    "from lmfit.models import ConstantModel, LorentzianModel\n",
    "\n",
    "# create an instance of the model\n",
    "# Note use of prefixes to keep parameters separate\n",
    "model1 = ConstantModel() + LorentzianModel(prefix='p1_') + LorentzianModel(prefix='p2_')\n",
    "\n",
    "params1 = model1.make_params()\n",
    "\n",
    "display(params1)"
   ]
  },
  {
   "cell_type": "markdown",
   "metadata": {},
   "source": [
    "#### Set the fit parameter starting points\n",
    "\n",
    "The first peak is shown as an example.  To set the amplitude, note that the amplitude $A$ in terms of the peak height $h$ is given by\n",
    "\n",
    "$$A=h\\sigma\\pi$$\n",
    "\n",
    "You can estimate decent starting values by simply reading the graph to obtain the full-width at hald maximum, the peak locations, the peak heights and the lelev of the baseline (background)."
   ]
  },
  {
   "cell_type": "code",
   "execution_count": null,
   "metadata": {},
   "outputs": [],
   "source": [
    "# Example of how to set the parameters. Setting vary=False makes that parameter fixed\n",
    "params1['p1_center'].set(value=275, vary=True)\n",
    "params1['p1_sigma'].set(value=30, vary=True)\n",
    "params1['p1_amplitude'].set(value=-6000.0*30.0*np.pi, vary=True)\n",
    "\n",
    "# You do the rest\n",
    "\n",
    "display(params1)"
   ]
  },
  {
   "cell_type": "markdown",
   "metadata": {},
   "source": [
    "#### Fit the model\n",
    "\n",
    "The code below is an example.  Note the use of wieghts from Poisson statistics of counting and also the commands to resize the plot from the fitting routine."
   ]
  },
  {
   "cell_type": "code",
   "execution_count": null,
   "metadata": {},
   "outputs": [],
   "source": [
    "# fit the model\n",
    "model1_fit = model1.fit(Hanle_data['Counts'], params1, x=Hanle_data['Chan'], weights=1/np.sqrt(Hanle_data['Counts']))\n",
    "\n",
    "print(model1_fit.fit_report(show_correl=False))\n",
    "\n",
    "myfig=plt.figure(figsize=(10,7))\n",
    "model1_fit.plot('.',fig=myfig)\n",
    "plt.grid()\n",
    "plt.xlabel(r'Channel')\n",
    "plt.ylabel(r'Counts')\n",
    "plt.title('Hanle data for vertical polarization');"
   ]
  },
  {
   "cell_type": "markdown",
   "metadata": {},
   "source": [
    "### Save the peak half-widths\n",
    "\n",
    "When you have obtained the best values, save the peak HWHM parameters.  I like to make a dataframe.  "
   ]
  },
  {
   "cell_type": "code",
   "execution_count": null,
   "metadata": {},
   "outputs": [],
   "source": [
    "# Helper function\n",
    "\n",
    "def get_uparm(params, name):\n",
    "    '''\n",
    "    Helper function to extract parameter value and uncertainty into\n",
    "    a ufloat object.\n",
    "    '''\n",
    "    return unc.ufloat(params[name].value, params[name].stderr)"
   ]
  },
  {
   "cell_type": "code",
   "execution_count": null,
   "metadata": {},
   "outputs": [],
   "source": [
    "# Extract the \"sigma\" parameters and sve them as uncertainty objects\n",
    "\n",
    "# You code this\n"
   ]
  },
  {
   "cell_type": "code",
   "execution_count": null,
   "metadata": {},
   "outputs": [],
   "source": [
    "# Here is an example of how to make a datframe.  You can add other columns using the method shown.\n",
    "Hanle_peaks_df = pd.DataFrame()\n",
    "Hanle_peaks_df['Number'] = [1,2]\n",
    "Hanle_peaks_df['HWHM (ch)'] = sigmas # An array of the sigma parameters\n",
    "\n",
    "display(Hanle_peaks_df)"
   ]
  },
  {
   "cell_type": "markdown",
   "metadata": {},
   "source": [
    "## Calculate the lifetime of <sup>3</sup>P<sub>1</sub>\n",
    "\n",
    "Now, use the HWHM in units of magnetic field to obtain the lifetime.\n",
    "\n",
    "**NOTE:** If you are importing the HWHM from the LabVIEW data analysis, here is where you use it.\n",
    "\n",
    "### Find $\\Delta B_{1/2}$ from half-width\n",
    "\n",
    "Apply your calibration constant and the current-to-magnetic-filed conversion connstant to obtain $\\Delta B_{1/2}$.\n"
   ]
  },
  {
   "cell_type": "code",
   "execution_count": null,
   "metadata": {
    "scrolled": true
   },
   "outputs": [],
   "source": [
    "# Add columns to the dataframe\n",
    "# You code this\n",
    "\n",
    "display(Hanle_peaks_df)"
   ]
  },
  {
   "cell_type": "code",
   "execution_count": null,
   "metadata": {},
   "outputs": [],
   "source": [
    "# If using LabVIEW result, make an uncertainty object with the half-width and its uncertainty, \n",
    "# and then multiply by the conversion and calibration constants.\n",
    "\n"
   ]
  },
  {
   "cell_type": "markdown",
   "metadata": {},
   "source": [
    "### g-factor calulation\n",
    "\n",
    "You need the g-factor for the $^3$P$_1$ state of mercury.  From the <i>Zeeman Effect in Mercury</i> instructions, the Lande g-factor formula in the L-S coupling scheme is given by\n",
    "\n",
    "$$ g_J = 1 + \\frac{J(J+1) + S(S+1) - L(L+1)}{2J(J+1)} $$\n",
    "\n",
    "You can either calculate this directly, or make a function (that you might use elsewhere)."
   ]
  },
  {
   "cell_type": "code",
   "execution_count": null,
   "metadata": {},
   "outputs": [],
   "source": [
    "# Function for calculating the Lande g-factor for J=L+S\n",
    "\n",
    "def g_J(S=1, L=1, J=1):\n",
    "    '''Calculate the Lande g-factor for Russell-Saunders coupling.\n",
    "    '''\n",
    "    # You code this, or just calculate directly\n",
    "    return g\n",
    "\n",
    "\n",
    "# Test of functon\n",
    "print('g-factor for 1S_1/2 =',g_J(0.5,0,0.5))\n",
    "print('g-factor for 3P_1 =',g_J(1,1,1))"
   ]
  },
  {
   "cell_type": "markdown",
   "metadata": {},
   "source": [
    "### Lifetime calculation\n",
    "\n",
    "Equation (4) in the instructions gives the lifetime of the excited state $\\tau$, as expected from the Hanle effect linewidth:\n",
    "\n",
    "$$ \\frac{1}{\\tau} = 2g_J\\frac{\\mu_B}{\\hbar}\\left|\\Delta B_{1/2}\\right| $$\n",
    "\n",
    "where $\\Delta B_{1/2}$ is the half-width at half-maximum of the \"absorption peak\", that is, the inverted Lorentzian peak in the scan of the emission vs. magnetic field with vertical incident polarization.\n",
    "\n",
    "You can obtain the Bohr magneton $\\mu_B$ from the SciPy constants database: `const.value('Bohr magneton')` and `const.hbar` gives $\\hbar$.\n"
   ]
  },
  {
   "cell_type": "code",
   "execution_count": null,
   "metadata": {},
   "outputs": [],
   "source": [
    "# Calculalate the lifetime\n",
    "\n",
    "# First, I make a function\n",
    "def tau(Del_B, g=1.5):\n",
    "    '''Calculate the excited state lifetime in nanoseconds.\n",
    "       Del_B is in gauss\n",
    "    '''\n",
    "    # You code this\n",
    "    \n",
    "    return tau_ns                        # Return tau in nanoseconds"
   ]
  },
  {
   "cell_type": "code",
   "execution_count": null,
   "metadata": {},
   "outputs": [],
   "source": [
    "# Add another column with lifetimes\n",
    "\n",
    "# take the average of the two to give the best value\n",
    "\n",
    "tau_best =\n",
    "print('Lifetime of the 3P_1 state of Hg, by the Hanle effect: {:.uP} ns'.format(tau_best))"
   ]
  },
  {
   "cell_type": "markdown",
   "metadata": {},
   "source": [
    "## Extended Analysis\n",
    "\n",
    "Below are the steps to complete the extended analysis by converting the channel numbers to current and then B-field before running a single peak fit."
   ]
  },
  {
   "cell_type": "markdown",
   "metadata": {},
   "source": [
    "### Extended Analysis: create a *calibration function*\n",
    "\n",
    "Think carefully about the current versus time graph: What is the value of the current at channel 0? What is the value of the current at 1/2 of the function generator period? At which channel would this occur? Because the function generator makes a triangle wave, the shape of the function is piecewise-linear.\n",
    "\n",
    "There are a couple of ways to make a piece-wise function.  A general way to do this is to use a \"Heaviside\" function $H(x)$ (named after Oliver Heaviside, a 19th century English scientist), which is a function that is equal to 1 for $x>0$ and 0 for $x\\le0$.  Then do tricks with the channel numbers to convert them to positive or negative numbers.  By multiplying the function you want (e.g., a line) by the Heaviside function, it will appear when the channel numbers make the Heaviside function 1 and block it when the channel numbers make it 0.  \n",
    "\n",
    "For example, if the function is a line with a negative slope for channels between 0 and $N$ and a line with a positive slope for channels above $N$, and these lines can be specified by their slopes $m_1$ and $m_2$, and intercepts $b_1$ and $b_2$, one could make a piecewise line $f(x)$ with\n",
    "\n",
    "$$ f(x) = H(N-x)[m_1x + b_1] + H(x-N)[m_2x + b_2] $$\n",
    "\n",
    "In this case, the two slopes are the same magntitude but reversed in sign: $m_2 = -m_1$.  To make the lines join, one sets $b_1$ at channel 0, and $b_2$ found from the intersection of the line going down and the line going up which must cross at 1/2 the period.\n",
    "\n",
    "The heaviside function is available from NumPy as `np.heaviside()`.  You should look it up for details on how to use it.\n",
    "\n",
    "A second method would be to use the SciPy function `scipy.signal.sawtooth`, which makes a triangle waveform when the `width` parameter is set to 0.50.  The sawtooth starts at -1 and goes to +1 with a period of $2\\pi$.  You would need to rescale and offset the values produced by this function so that it ranges between the maximum and minimum current measured, and also scale the  argument appropriately, since the function is periodic whenever the argument $t = 2\\pi$.  For example, if the maximum and minimum currents are $I_{max}$ and $I_{min}$, the peak-to-peak change in current is $I_{max}-I_{min}$ and the offset would be the average of these currents. Then convert channels to successive time values, in seconds. The frequency is $1/T$, where $T$ is the period, so the time values $t$ are fed into the sawtooth function as $2\\pi t/T$. "
   ]
  },
  {
   "cell_type": "code",
   "execution_count": null,
   "metadata": {},
   "outputs": [],
   "source": [
    "# Make an array that matches the channel numbers\n",
    "chan = np.asarray(Hanle_data['Chan'])\n",
    "print('channel array:', chan)\n",
    "\n",
    "# You code the rest Make a calibration function according to \n",
    "# one of the schemes described\n",
    "\n",
    "def cal_fn(x, dwell=dwell_time, T=sweep_period, I_max=I_max, I_min=I_min):\n",
    "    '''Calibration function to convert channel number to current'''\n",
    "\n",
    "    # You code this\n",
    "    \n",
    "    return I\n"
   ]
  },
  {
   "cell_type": "code",
   "execution_count": null,
   "metadata": {},
   "outputs": [],
   "source": [
    "# Test plot to make sure the calibration function looks right\n",
    "plt.xlabel('Channel')\n",
    "plt.ylabel('Current (A)')\n",
    "plt.title('Calibration test')\n",
    "plt.plot(chan, cal_fn(chan))\n",
    "plt.grid(True);"
   ]
  },
  {
   "cell_type": "markdown",
   "metadata": {},
   "source": [
    "### Apply the calibration function\n",
    "\n",
    "Plot the channel counts against the calibrated current.  The two peaks should collapse to one, with the current nearly symmetrical about the center of the peak."
   ]
  },
  {
   "cell_type": "code",
   "execution_count": null,
   "metadata": {},
   "outputs": [],
   "source": [
    "# Sanity plot\n",
    "# You code this\n"
   ]
  },
  {
   "cell_type": "markdown",
   "metadata": {},
   "source": [
    "### Fit the modified data\n",
    "\n",
    "Build a model with one Lorentzian peak and a constant background.  You will not need to worry about the peak \"prefix\"."
   ]
  },
  {
   "cell_type": "code",
   "execution_count": null,
   "metadata": {},
   "outputs": [],
   "source": [
    "# create an instance of the model\n",
    "# Note use of prefixes to keep parameters separate\n",
    "model2 = ConstantModel() + LorentzianModel()\n",
    "\n",
    "# You code the rest of the setup"
   ]
  },
  {
   "cell_type": "code",
   "execution_count": null,
   "metadata": {},
   "outputs": [],
   "source": [
    "# Set the starting values of the fit parameters, based on the graph.\n"
   ]
  },
  {
   "cell_type": "code",
   "execution_count": null,
   "metadata": {},
   "outputs": [],
   "source": [
    "# Carry out the fit and plot the results\n"
   ]
  },
  {
   "cell_type": "markdown",
   "metadata": {},
   "source": [
    "### Calculate the lifetime of <sup>3</sup>P<sub>1</sub> state"
   ]
  },
  {
   "cell_type": "code",
   "execution_count": null,
   "metadata": {},
   "outputs": [],
   "source": [
    "# Obtain the sigma parameter\n",
    "sigma = get_uparm(model2_fit.params,'sigma')\n",
    "print('Delta-B_1/2 (G) =', sigma)\n",
    "\n",
    "# Calculate the lifetime of the 3P_1 state\n",
    "tau = tau(sigma)\n",
    "print('Lifetime of the 3P_1 state of Hg, by the Hanle effect, 2nd method: {:.uP} ns'.format(tau))"
   ]
  },
  {
   "cell_type": "code",
   "execution_count": null,
   "metadata": {},
   "outputs": [],
   "source": []
  }
 ],
 "metadata": {
  "kernelspec": {
   "display_name": "Python 3 (ipykernel)",
   "language": "python",
   "name": "python3"
  },
  "language_info": {
   "codemirror_mode": {
    "name": "ipython",
    "version": 3
   },
   "file_extension": ".py",
   "mimetype": "text/x-python",
   "name": "python",
   "nbconvert_exporter": "python",
   "pygments_lexer": "ipython3",
   "version": "3.11.11"
  }
 },
 "nbformat": 4,
 "nbformat_minor": 4
}
